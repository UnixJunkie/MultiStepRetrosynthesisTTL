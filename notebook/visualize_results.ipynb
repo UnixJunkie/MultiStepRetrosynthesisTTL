{
 "cells": [
  {
   "cell_type": "markdown",
   "metadata": {},
   "source": [
    "## 1. Imports & Load data"
   ]
  },
  {
   "cell_type": "code",
   "execution_count": null,
   "metadata": {},
   "outputs": [],
   "source": [
    "import pandas as pd\n",
    "import ttlretro.view_routes as vr"
   ]
  },
  {
   "cell_type": "code",
   "execution_count": null,
   "metadata": {},
   "outputs": [],
   "source": [
    "project_name = 'config_example'\n",
    "log_time_stamp = 'YYYY_MM_DD__HHMMSS'\n",
    "\n",
    "predictions = pd.read_pickle('../output/{}/{}__prediction.pkl'.format(project_name, log_time_stamp))\n",
    "tree = pd.read_pickle('../output/{}/{}__tree.pkl'.format(project_name, log_time_stamp))"
   ]
  },
  {
   "cell_type": "markdown",
   "metadata": {},
   "source": [
    "## 2. Compute scores and get best routes"
   ]
  },
  {
   "cell_type": "code",
   "execution_count": null,
   "metadata": {},
   "outputs": [],
   "source": [
    "tree = vr.get_advanced_scores(tree=tree, predictions=predictions)\n",
    "\n",
    "# Select score metric to sort by: ('Score', 'Fwd_Conf_Score', or 'Simplicity_Score')\n",
    "SORT_BY = 'Fwd_Conf_Score'\n",
    "\n",
    "bests = vr.get_best_first_branches(\n",
    "    tree=tree, \n",
    "    predictions=predictions, \n",
    "    num_branches=10, \n",
    "    score_metric=SORT_BY\n",
    "    )"
   ]
  },
  {
   "cell_type": "markdown",
   "metadata": {},
   "source": [
    "## 3. Display routes"
   ]
  },
  {
   "cell_type": "markdown",
   "metadata": {},
   "source": [
    "### 3.1 Display best route"
   ]
  },
  {
   "cell_type": "code",
   "execution_count": null,
   "metadata": {},
   "outputs": [],
   "source": [
    "vr.display_branch(\n",
    "    branch_tree_index_or_list_rxn_id=0, \n",
    "    tree=bests, \n",
    "    predictions=predictions, \n",
    "    forwarddirection=True\n",
    "    )"
   ]
  },
  {
   "cell_type": "markdown",
   "metadata": {},
   "source": [
    "### 3.2 Second best route"
   ]
  },
  {
   "cell_type": "code",
   "execution_count": null,
   "metadata": {},
   "outputs": [],
   "source": [
    "vr.display_branch(\n",
    "    branch_tree_index_or_list_rxn_id=1, \n",
    "    tree=bests, \n",
    "    predictions=predictions, \n",
    "    forwarddirection=True\n",
    ")"
   ]
  }
 ],
 "metadata": {
  "kernelspec": {
   "display_name": "Python 3.8.16 ('MultiStepRetro2')",
   "language": "python",
   "name": "python3"
  },
  "language_info": {
   "name": "python",
   "version": "3.8.16"
  },
  "orig_nbformat": 4,
  "vscode": {
   "interpreter": {
    "hash": "2f5c085b77cd27064c38a4320102fb799e1040e9a65ecf4f64ca1462951f6bf2"
   }
  }
 },
 "nbformat": 4,
 "nbformat_minor": 2
}
